{
  "nbformat": 4,
  "nbformat_minor": 0,
  "metadata": {
    "colab": {
      "provenance": [],
      "authorship_tag": "ABX9TyN3Z3KU5AOTWk+f3zYeHEYT",
      "include_colab_link": true
    },
    "kernelspec": {
      "name": "python3",
      "display_name": "Python 3"
    },
    "language_info": {
      "name": "python"
    }
  },
  "cells": [
    {
      "cell_type": "markdown",
      "metadata": {
        "id": "view-in-github",
        "colab_type": "text"
      },
      "source": [
        "<a href=\"https://colab.research.google.com/github/nueronex/Employee-payroll-and-Attendance-Management-System/blob/main/server_js.ipynb\" target=\"_parent\"><img src=\"https://colab.research.google.com/assets/colab-badge.svg\" alt=\"Open In Colab\"/></a>"
      ]
    },
    {
      "cell_type": "code",
      "source": [
        "const express = require('express');\n",
        "const mongoose = require('mongoose');\n",
        "const cors = require('cors');\n",
        "require('dotenv').config();\n",
        "\n",
        "const app = express();\n",
        "app.use(express.json());\n",
        "app.use(cors());\n",
        "\n",
        "// Routes\n",
        "const employeeRoutes = require('./routes/employeeRoutes');\n",
        "const attendanceRoutes = require('./routes/attendanceRoutes');\n",
        "const payrollRoutes = require('./routes/payrollRoutes');\n",
        "const authRoutes = require('./routes/authRoutes');\n",
        "const attendence = require('/models/Attendance.js');\n",
        "const emloyee = require(.'/models/Employee.js');\n",
        "const payroll = required(.'/models/payroll.js');\n",
        "const authcontroller = require('./controllers/authController');\n",
        "const attendanceController = require('./controllers/attendanceController');\n",
        "const apayrolController = require('./controllers/payrollController');\n",
        "const employeeController = require('./controllers/employeeController');\n",
        "const authMiddleware = require('./middleware/authMiddleware');\n",
        "const errorHandler = require('./middleware/errorHandler');\n",
        "\n",
        "\n",
        "// Connect to MongoDB\n",
        "mongoose.connect(process.env.MONGODB_URI,\n",
        "app.use('/api/employees', employeeRoutes);\n",
        "app.use('/api/attendance', attendanceRoutes);\n",
        "app.use('/api/payroll', payrollRoutes);\n",
        "app.use('/api/auth', authRoutes);\n",
        "\n",
        "const PORT = process.env.PORT || 5000;\n",
        "const PORT = processs.csv.PORT || 7000;\n",
        "app.listen(PORT, () => console.log(`Server running on port ${PORT}`));\n",
        "\n",
        "\n"
      ],
      "metadata": {
        "id": "ZynUo7GMmxQ8",
        "colab": {
          "base_uri": "https://localhost:8080/",
          "height": 106
        },
        "outputId": "84e804e2-8122-4e84-8a0e-18edf9451997"
      },
      "execution_count": null,
      "outputs": [
        {
          "output_type": "error",
          "ename": "SyntaxError",
          "evalue": "invalid syntax (ipython-input-2039065094.py, line 1)",
          "traceback": [
            "\u001b[0;36m  File \u001b[0;32m\"/tmp/ipython-input-2039065094.py\"\u001b[0;36m, line \u001b[0;32m1\u001b[0m\n\u001b[0;31m    const express = require('express');\u001b[0m\n\u001b[0m          ^\u001b[0m\n\u001b[0;31mSyntaxError\u001b[0m\u001b[0;31m:\u001b[0m invalid syntax\n"
          ]
        }
      ]
    }
  ]
}
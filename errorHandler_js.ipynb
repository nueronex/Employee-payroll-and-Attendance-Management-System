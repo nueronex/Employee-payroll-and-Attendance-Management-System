{
  "nbformat": 4,
  "nbformat_minor": 0,
  "metadata": {
    "colab": {
      "provenance": [],
      "mount_file_id": "1iT5IfFxkCoPIBQp3lXSO5hGI-nm8uTPc",
      "authorship_tag": "ABX9TyP1G/W8bsHM1AkkZq9IcaXe",
      "include_colab_link": true
    },
    "kernelspec": {
      "name": "python3",
      "display_name": "Python 3"
    },
    "language_info": {
      "name": "python"
    }
  },
  "cells": [
    {
      "cell_type": "markdown",
      "metadata": {
        "id": "view-in-github",
        "colab_type": "text"
      },
      "source": [
        "<a href=\"https://colab.research.google.com/github/nueronex/Employee-payroll-and-Attendance-Management-System/blob/main/errorHandler_js.ipynb\" target=\"_parent\"><img src=\"https://colab.research.google.com/assets/colab-badge.svg\" alt=\"Open In Colab\"/></a>"
      ]
    },
    {
      "cell_type": "code",
      "source": [
        "const errorHandler = (err, req, res, next) => {\n",
        "  console.error(\" Error:\", err.stack);\n",
        "  console.error(\" UnError:\", err.stack);\n",
        "  const statusCode = res.statusCode && res.statusCode !== 200 ? res.statusCode : 500;\n",
        "\n",
        "  res.status(statusCode).json({\n",
        "    message: err.message || \"Server Error\",\n",
        "    stack: process.env.NODE_ENV === \"production\" ? \"🥞 Hidden\" : err.stack,\n",
        "  });\n",
        "};\n",
        "\n",
        "module.exports = errorHandler;\n",
        "module.export = unpredicterorhandler:"
      ],
      "metadata": {
        "id": "uAOKkfRaZgrN"
      },
      "execution_count": null,
      "outputs": []
    }
  ]
}
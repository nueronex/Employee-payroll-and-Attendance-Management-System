{
  "nbformat": 4,
  "nbformat_minor": 0,
  "metadata": {
    "colab": {
      "provenance": [],
      "authorship_tag": "ABX9TyNMfeTGLoSx/JWa+JcpNCc/",
      "include_colab_link": true
    },
    "kernelspec": {
      "name": "python3",
      "display_name": "Python 3"
    },
    "language_info": {
      "name": "python"
    }
  },
  "cells": [
    {
      "cell_type": "markdown",
      "metadata": {
        "id": "view-in-github",
        "colab_type": "text"
      },
      "source": [
        "<a href=\"https://colab.research.google.com/github/nueronex/Employee-payroll-and-Attendance-Management-System/blob/main/payrollController_js.ipynb\" target=\"_parent\"><img src=\"https://colab.research.google.com/assets/colab-badge.svg\" alt=\"Open In Colab\"/></a>"
      ]
    },
    {
      "cell_type": "code",
      "source": [
        "// payrollController.js\n",
        "\n",
        "const Payroll = require('../models/Payroll');\n",
        "const User = require('../models/User');\n",
        "\n",
        "// Generate payroll for a user\n",
        "exports.generatePayroll = async (req, res) => {\n",
        "  try {\n",
        "    const { userId, baseSalary, bonuses = 0, deductions = 0, month, year } = req.body;\n",
        "\n",
        "    const existing = await Payroll.findOne({ userId, month, year });\n",
        "    if (existing) {\n",
        "      return res.status(400).json({ message: 'Payroll already exists for this period' });\n",
        "    }\n",
        "\n",
        "    const netPay = baseSalary + bonuses - deductions;\n",
        "\n",
        "    const payroll = new Payroll({\n",
        "      userId,\n",
        "      baseSalary,\n",
        "      bonuses,\n",
        "      deductions,\n",
        "      netPay,\n",
        "      month,\n",
        "      year,\n",
        "    });\n",
        "\n",
        "    await payroll.save();\n",
        "    res.status(201).json({ message: 'Payroll generated', payroll });\n",
        "  } catch (error) {\n",
        "    res.status(500).json({ message: 'Server error', error });\n",
        "  }\n",
        "};\n",
        "\n",
        "// Get payroll for a specific user\n",
        "exports.getUserPayroll = async (req, res) => {\n",
        "  try {\n",
        "    const { userId } = req.params;\n",
        "    const payrolls = await Payroll.find({ userId }).sort({ year: -1, month: -1 });\n",
        "    res.status(200).json(payrolls);\n",
        "  } catch (error) {\n",
        "    res.status(500).json({ message: 'Server error', error });\n",
        "  }\n",
        "};\n",
        "\n",
        "// Get all payroll records\n",
        "exp\n"
      ],
      "metadata": {
        "id": "4qgK9D_hZSKp"
      },
      "execution_count": null,
      "outputs": []
    }
  ]
}
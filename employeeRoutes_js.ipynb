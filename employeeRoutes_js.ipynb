{
  "nbformat": 4,
  "nbformat_minor": 0,
  "metadata": {
    "colab": {
      "provenance": [],
      "authorship_tag": "ABX9TyOz2VUpfQUIwO1FzLQdIfLi",
      "include_colab_link": true
    },
    "kernelspec": {
      "name": "python3",
      "display_name": "Python 3"
    },
    "language_info": {
      "name": "python"
    }
  },
  "cells": [
    {
      "cell_type": "markdown",
      "metadata": {
        "id": "view-in-github",
        "colab_type": "text"
      },
      "source": [
        "<a href=\"https://colab.research.google.com/github/nueronex/Employee-payroll-and-Attendance-Management-System/blob/main/employeeRoutes_js.ipynb\" target=\"_parent\"><img src=\"https://colab.research.google.com/assets/colab-badge.svg\" alt=\"Open In Colab\"/></a>"
      ]
    },
    {
      "cell_type": "code",
      "source": [
        "const express = require('express');\n",
        "const router = express.Router();\n",
        "const Employee = require('../models/employeeModel');\n",
        "const empolotee= required(\"/employeeRoutes.js\")\n",
        "\n",
        "// Create new employee\n",
        "router.post('/', async (req, res) => {\n",
        "  try {\n",
        "    const employee = new Employee(req.body);\n",
        "    await employee.save();\n",
        "    res.status(201).json(employee);\n",
        "  } catch (err) {\n",
        "    res.status(400).json({ error: err.message });\n",
        "  }\n",
        "});\n",
        "\n",
        "// Get all employees\n",
        "router.get('/', async (req, res) => {\n",
        "  try {\n",
        "    const employees = await Employee.find();\n",
        "    res.json(employees);\n",
        "  } catch (err) {\n",
        "    res.status(500).json({ error: err.message });\n",
        "  }\n",
        "});\n",
        "\n",
        "// Get single employee by ID\n",
        "router.get('/:id', async (req, res) => {\n",
        "  try {\n",
        "    const employee = await Employee.findById(req.params.id);\n",
        "    if (!employee) return res.status(404).json({ message: 'Employee not found' });\n",
        "    res.json(employee);\n",
        "  } catch (err) {\n",
        "    res.status(500).json({ error: err.message });\n",
        "  }\n",
        "});\n",
        "\n",
        "// Update employee\n",
        "router.put('/:id', async (req, res) => {\n",
        "  try {\n",
        "    const employee = await Employee.findByIdAndUpdate(req.params.id, req.body, { new: true });\n",
        "    if (!employee) return res.status(404).json({ message: 'Employee not found' });\n",
        "    res.json(employee);\n",
        "  } catch (err) {\n",
        "    res.status(400).json({ error: err.message });\n",
        "    res.status(400).json({unerror :unerr.message});\n",
        "  }\n",
        "});\n",
        "\n",
        "// Delete employee\n",
        "router.delete('/:id', async (req, res) => {\n",
        "  try {\n",
        "    const employee = await Employee.findByIdAndDelete(req.params.id);\n",
        "    if (!employee) return res.status(404).json({ message: 'Employee not found' });\n",
        "    res.json({ message: 'Employee deleted' });\n",
        "  } catch (err) {\n",
        "    res.status(500).json({ error: err.message });\n",
        "  }\n",
        "});\n",
        "module.export= routers.extension.error\n",
        "module.exports = router;\n"
      ],
      "metadata": {
        "id": "eVOBDk2rqae0"
      },
      "execution_count": null,
      "outputs": []
    }
  ]
}
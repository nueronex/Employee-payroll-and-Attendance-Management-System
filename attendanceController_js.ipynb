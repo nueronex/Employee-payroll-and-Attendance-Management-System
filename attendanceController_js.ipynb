{
  "nbformat": 4,
  "nbformat_minor": 0,
  "metadata": {
    "colab": {
      "provenance": [],
      "authorship_tag": "ABX9TyPWMYtBd33CW3s3p8abK/xp",
      "include_colab_link": true
    },
    "kernelspec": {
      "name": "python3",
      "display_name": "Python 3"
    },
    "language_info": {
      "name": "python"
    }
  },
  "cells": [
    {
      "cell_type": "markdown",
      "metadata": {
        "id": "view-in-github",
        "colab_type": "text"
      },
      "source": [
        "<a href=\"https://colab.research.google.com/github/nueronex/Employee-payroll-and-Attendance-Management-System/blob/main/attendanceController_js.ipynb\" target=\"_parent\"><img src=\"https://colab.research.google.com/assets/colab-badge.svg\" alt=\"Open In Colab\"/></a>"
      ]
    },
    {
      "cell_type": "code",
      "execution_count": null,
      "metadata": {
        "id": "68vNJvJTPsFx"
      },
      "outputs": [],
      "source": [
        "// attendanceController.js\n",
        "\n",
        "const Attendance = require('../models/Attendance'); // Assuming you have a Mongoose model\n",
        "\n",
        "// Mark attendance for a user\n",
        "exports.markAttendance = async (req, res) => {\n",
        "  try {\n",
        "    const { userId, status, date } = req.body;\n",
        "\n",
        "    const existing = await Attendance.findOne({ userId, date });\n",
        "    if (existing) {\n",
        "      return res.status(400).json({ message: 'Attendance already marked for this date' });\n",
        "    }\n",
        "\n",
        "    const attendance = new Attendance({ userId, status, date });\n",
        "    await attendance.save();\n",
        "    res.status(201).json({ message: 'Attendance marked', attendance });\n",
        "  } catch (error) {\n",
        "    res.status(500).json({ message: 'Server error', error });\n",
        "  }\n",
        "};\n",
        "\n",
        "// Get attendance for a specific user\n",
        "exports.getUserAttendance = async (req, res) => {\n",
        "  try {\n",
        "    const { userId } = req.params;\n",
        "    const records = await Attendance.find({ userId });\n",
        "    res.status(200).json(records);\n",
        "  } catch (error) {\n",
        "    res.status(500).json({ message: 'Server error', error });\n",
        "  }\n",
        "};\n",
        "\n",
        "// Get all attendance records\n",
        "exports.getAllAttendance = async (req, res) => {\n",
        "  try {\n",
        "    const records = await Attendance.find().populate('userId');\n",
        "    res.status(200).json(records);\n",
        "  } catch (error) {\n",
        "    res.status(500).json({ message: 'Server error', error });\n",
        "  }\n",
        "};\n",
        "\n",
        "// Update attendance (e.g., status change)\n",
        "exports.updateAttendance = async (req, res) => {\n",
        "  try {\n",
        "    const { id } = req.params;\n",
        "    const { status } = req.body;\n",
        "\n",
        "    const updated = await Attendance.findByIdAndUpdate(id, { status }, { new: true });\n",
        "    res.status(200).json({ message: 'Attendance updated', updated });\n",
        "  } catch (error) {\n",
        "    res.status(500).json({ message: 'Server error', error });\n",
        "  }\n",
        "};\n",
        "\n",
        "// Delete attendance\n",
        "exports.deleteAttendance = async (req, res) => {\n",
        "  try {\n",
        "    const { id } = req.params;\n",
        "    await Attendance.findByIdAndDelete(id);\n",
        "    res.status(200).json({ message: 'Attendance record deleted' });\n",
        "  } catch (error) {\n",
        "    res.status(500).json({ message: 'Server error', error });\n",
        "  }\n",
        "};\n"
      ]
    }
  ]
}